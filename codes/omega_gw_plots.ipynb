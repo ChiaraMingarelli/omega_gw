{
 "cells": [
  {
   "cell_type": "code",
   "execution_count": null,
   "metadata": {},
   "outputs": [],
   "source": [
    "import numpy as np\n",
    "import matplotlib.pyplot as plt\n",
    "from astropy.table import Table"
   ]
  },
  {
   "cell_type": "code",
   "execution_count": null,
   "metadata": {},
   "outputs": [],
   "source": [
    "# Start with Einstein Telescope"
   ]
  },
  {
   "cell_type": "code",
   "execution_count": null,
   "metadata": {},
   "outputs": [],
   "source": [
    "et_curve=np.genfromtxt(\"ET-0000A-18_ETDSensitivityCurveTxtFile.txt\", \n",
    "                       names=('freq', 'ET-D-HF', 'ET-D-LF', 'Sum'))"
   ]
  },
  {
   "cell_type": "code",
   "execution_count": null,
   "metadata": {},
   "outputs": [],
   "source": [
    "et_curve = Table(et_curve)"
   ]
  },
  {
   "cell_type": "code",
   "execution_count": null,
   "metadata": {},
   "outputs": [],
   "source": [
    "ce_curve = np.genfromtxt(\"ce_wb.dat\", names=('freq','CE'))"
   ]
  },
  {
   "cell_type": "code",
   "execution_count": null,
   "metadata": {},
   "outputs": [],
   "source": [
    "ce_curve = Table(ce_curve)"
   ]
  },
  {
   "cell_type": "code",
   "execution_count": null,
   "metadata": {},
   "outputs": [],
   "source": [
    "def Sn2OmGW_wT(freq, s_of_n, time):\n",
    "    \"\"\"\n",
    "    Set H_0=68 km/s/Mpc\n",
    "    1 pc = 1.029e+8 light seconds\n",
    "    int_t_improv: integration time improves the detector sensitivity by sqrt(time*freq)\n",
    "    \"\"\"\n",
    "    pc2sec = 1.029e+8\n",
    "    metre2sec = 3.3356e-9\n",
    "    H0_secs = 68*1000*metre2sec/(1e6*pc2sec) # H should be 100!!\n",
    "    num = 2*np.pi**2*freq**3*s_of_n**2 # quantity in files is really sqrt(S_n(f))\n",
    "    deno = 3*H0_secs**2\n",
    "    int_t_improv = np.sqrt(time*freq)\n",
    "    OmegaGW = num/deno/int_t_improv\n",
    "    return OmegaGW\n",
    "\n",
    "def Sn2OmGW(freq, s_of_n):\n",
    "    \"\"\"\n",
    "    Set h=1 and use H_0=100 km/s/Mpc\n",
    "    1 pc = 1.029e+8 light seconds\n",
    "    \"\"\"\n",
    "    pc2sec = 1.029e+8\n",
    "    metre2sec = 3.3356e-9\n",
    "    H0_secs = 68*1000*metre2sec/(1e6*pc2sec)\n",
    "    num = 2*np.pi**2*freq**3*s_of_n**2 # quantity in files is really sqrt(S_n(f))\n",
    "    deno = 3*H0_secs**2\n",
    "    OmegaGW = num/deno\n",
    "    return OmegaGW"
   ]
  },
  {
   "cell_type": "code",
   "execution_count": null,
   "metadata": {},
   "outputs": [],
   "source": [
    "plt.loglog(ce_curve['freq'], Sn2OmGW_wT(ce_curve['freq'], ce_curve['CE'], time2y), label=\"CE, 2 yrs\")\n",
    "plt.loglog(ce_curve['freq'], Sn2OmGW_wT(ce_curve['freq'], ce_curve['CE'], time5y), label=\"CE, 5 yrs\")\n",
    "\n",
    "\n",
    "\n",
    "plt.grid(True)\n",
    "plt.ylabel(\"$\\Omega_{GW}(f)$\")\n",
    "plt.xlabel(\"frequency (Hz)\")\n",
    "plt.legend()\n",
    "plt.tight_layout()\n",
    "#plt.savefig(\"ET_om_gw_2yr_integration.pdf\")\n",
    "plt.show()"
   ]
  },
  {
   "cell_type": "code",
   "execution_count": null,
   "metadata": {},
   "outputs": [],
   "source": [
    "time2y = 2*3.154e+7 #scaling for observation time #aLIGO assumes 2 years of data"
   ]
  },
  {
   "cell_type": "code",
   "execution_count": null,
   "metadata": {},
   "outputs": [],
   "source": [
    "time5y = 5*3.154e+7"
   ]
  },
  {
   "cell_type": "code",
   "execution_count": null,
   "metadata": {},
   "outputs": [],
   "source": [
    "#plt.loglog(et_curve['freq'], Sn2OmGW(et_curve['freq'], et_curve['ETDHF']), label=\"ET-D HF\", linestyle=\"--\")\n",
    "#plt.loglog(et_curve['freq'], Sn2OmGW(et_curve['freq'], et_curve['ETDLF']), label=\"ET-D LF\", linestyle = '-.')\n",
    "#plt.loglog(et_curve['freq'], Sn2OmGW(et_curve['freq'], et_curve['Sum']), label=\"ET-D sum\")\n",
    "\n",
    "#plt.loglog(et_curve['freq'], Sn2OmGW_wT(et_curve['freq'], et_curve['ETDHF'], time), label=\"ET-D HF\", linestyle=\"--\")\n",
    "#plt.loglog(et_curve['freq'], Sn2OmGW_wT(et_curve['freq'], et_curve['ETDLF'], time), label=\"ET-D LF\", linestyle = '-.')\n",
    "plt.loglog(et_curve['freq'], Sn2OmGW_wT(et_curve['freq'], et_curve['Sum'], time2y), label=\"ET-D sum, 2 yrs\")\n",
    "plt.loglog(et_curve['freq'], Sn2OmGW_wT(et_curve['freq'], et_curve['Sum'], time5y), label=\"ET-D sum, 5 yrs\")\n",
    "\n",
    "\n",
    "\n",
    "plt.grid(True)\n",
    "plt.ylabel(\"$\\Omega_{GW}(f)$\")\n",
    "plt.xlabel(\"frequency (Hz)\")\n",
    "plt.legend()\n",
    "plt.tight_layout()\n",
    "#plt.savefig(\"ET_om_gw_2yr_integration.pdf\")\n",
    "plt.show()"
   ]
  },
  {
   "cell_type": "code",
   "execution_count": null,
   "metadata": {},
   "outputs": [],
   "source": [
    "nano_curve = np.genfromtxt(\"nanograv18_omega.txt\", names=('nanoFreq', 'NANOGrav18'))"
   ]
  },
  {
   "cell_type": "code",
   "execution_count": null,
   "metadata": {},
   "outputs": [],
   "source": [
    "nano_curve = Table(nano_curve)"
   ]
  },
  {
   "cell_type": "code",
   "execution_count": null,
   "metadata": {},
   "outputs": [],
   "source": []
  },
  {
   "cell_type": "code",
   "execution_count": null,
   "metadata": {},
   "outputs": [],
   "source": [
    "nano_hc = np.genfromtxt(\"nanograv18_hc.txt\", names=('nanoFreq', 'NANOGrav18'))"
   ]
  },
  {
   "cell_type": "code",
   "execution_count": null,
   "metadata": {},
   "outputs": [],
   "source": [
    "nano_hc = Table(nano_hc)"
   ]
  },
  {
   "cell_type": "code",
   "execution_count": null,
   "metadata": {},
   "outputs": [],
   "source": [
    "plt.loglog(nano_hc['nanoFreq'], nano_hc['NANOGrav18'], label=\"NANOGrav 2018\")"
   ]
  },
  {
   "cell_type": "code",
   "execution_count": null,
   "metadata": {},
   "outputs": [],
   "source": [
    "aligo_dat = np.genfromtxt(\"aLIGO_design.dat\", delimiter='', skip_header=1, names=(\"freq\", \"omega\"))"
   ]
  },
  {
   "cell_type": "code",
   "execution_count": null,
   "metadata": {},
   "outputs": [],
   "source": [
    "aligo_dat = Table(aligo_dat)"
   ]
  },
  {
   "cell_type": "code",
   "execution_count": null,
   "metadata": {},
   "outputs": [],
   "source": [
    "plt.loglog(aligo_dat['freq'], aligo_dat['omega'])"
   ]
  },
  {
   "cell_type": "code",
   "execution_count": null,
   "metadata": {},
   "outputs": [],
   "source": [
    "lisa_dat = np.genfromtxt(\"PICurve_LISA.dat\", delimiter='', skip_header=1, names=(\"freq\", \"omega\"))"
   ]
  },
  {
   "cell_type": "code",
   "execution_count": null,
   "metadata": {},
   "outputs": [],
   "source": [
    "lisa_dat = Table(lisa_dat)"
   ]
  },
  {
   "cell_type": "code",
   "execution_count": null,
   "metadata": {},
   "outputs": [],
   "source": [
    "plt.loglog(nano_curve['nanoFreq'], nano_curve['NANOGrav18'], label=\"NANOGrav 2018\")"
   ]
  },
  {
   "cell_type": "code",
   "execution_count": null,
   "metadata": {},
   "outputs": [],
   "source": [
    "nanoOmega11 = 3.4e-10/(.68)**2 #NG limit was in h=1, need to divide by h=.68^2\n",
    "freq_yr = 1/3.154e+7\n",
    "n = 150 # remove the first n points for ET so that the high frequency cutoff does not dominate the figure"
   ]
  },
  {
   "cell_type": "code",
   "execution_count": null,
   "metadata": {},
   "outputs": [],
   "source": [
    "#plt.loglog(et_curve['freq'], Sh2OmGW(et_curve['freq'], et_curve['ETDHF'])/time, label=\"ET-D HF\", linestyle=\"--\")\n",
    "#plt.loglog(et_curve['freq'], Sh2OmGW(et_curve['freq'], et_curve['ETDLF'])/time, label=\"ET-D LF\", linestyle = '-.')\n",
    "plt.loglog(nano_curve['nanoFreq'], nano_curve['NANOGrav18']/(.68)**2, label=\"NANOGrav 2018\")\n",
    "plt.loglog(aligo_dat['freq'], aligo_dat['omega'], label= \"aLIGO design\")\n",
    "plt.loglog(et_curve['freq'][n:], Sn2OmGW_wT(et_curve['freq'][n:], et_curve['Sum'][n:], time2y), label=\"ET-D\", ls = 'dashed')\n",
    "#plt.loglog(et_curve['freq'][n:], Sn2OmGW_wT(et_curve['freq'][n:], et_curve['Sum'][n:], time5y), label=\"ET-D 5 yrs\")\n",
    "\n",
    "plt.loglog(ce_curve['freq'][n:], Sn2OmGW_wT(ce_curve['freq'][n:], ce_curve['CE'][n:], time2y), label=\"Cosmic Explorer\", ls = 'dashed')\n",
    "#plt.loglog(ce_curve['freq'], Sn2OmGW_wT(ce_curve['freq'], ce_curve['CE'], time5y), label=\"CE, 5 yrs\")\n",
    "\n",
    "\n",
    "\n",
    "plt.loglog(lisa_dat['freq'], lisa_dat['omega'], label= \"LISA\", ls = 'dashed')\n",
    "#plt.annotate('NG11',(freq_yr, nanoOmega11))\n",
    "\n",
    "plt.grid(True)\n",
    "plt.ylabel(\"$\\Omega_{GW}(f)$\")\n",
    "plt.xlabel(\"Frequency (Hz)\")\n",
    "plt.legend(loc=9)\n",
    "#plt.ylim(1e-16, 1e-2)\n",
    "#plt.xlim(1e-9, 1e4)\n",
    "plt.tight_layout()\n",
    "#plt.savefig(\"all_exper_w2yrs.pdf\")\n",
    "plt.show()"
   ]
  },
  {
   "cell_type": "code",
   "execution_count": null,
   "metadata": {
    "collapsed": true
   },
   "outputs": [],
   "source": [
    "# plotting preamble\n",
    "\n",
    "fig_width_pt = 245.27 #513.17           # Get this from LaTeX using \\showthe\\columnwidth\n",
    "inches_per_pt = 1.0/72.27               # Convert pt to inches\n",
    "golden_mean = (np.sqrt(5)-1.0)/2.0      # Aesthetic ratio\n",
    "fig_width = fig_width_pt*inches_per_pt  # width in inches\n",
    "fig_height =fig_width*golden_mean       # height in inches\n",
    "fig_size = [fig_width,fig_height]\n",
    "\n",
    "params = {'backend': 'pdf',\n",
    "        'axes.labelsize': 7,\n",
    "        'lines.markersize': 2,\n",
    "        'font.size': 7,\n",
    "        'xtick.major.size':6,\n",
    "        'xtick.minor.size':3,  \n",
    "        'ytick.major.size':6,\n",
    "        'ytick.minor.size':3, \n",
    "        'xtick.major.width':0.5,\n",
    "        'ytick.major.width':0.5,\n",
    "        'xtick.minor.width':0.5,\n",
    "        'ytick.minor.width':0.5,\n",
    "        'lines.markeredgewidth':1,\n",
    "        'axes.linewidth':1.0,\n",
    "        'legend.fontsize': 7,\n",
    "        'xtick.labelsize': 7,\n",
    "        'ytick.labelsize': 7,\n",
    "        'savefig.dpi':200,\n",
    "        'path.simplify':True,\n",
    "        #'font.family': 'serif',\n",
    "        'font.serif':'Times',\n",
    "        'text.latex.preamble': [r'\\usepackage{amsmath}'],\n",
    "        'text.usetex':True,\n",
    "        #'axes.color_cycle': ['b', 'lime', 'r', 'purple', 'g', 'c', 'm', 'orange', 'darkblue', \\\n",
    "        #                        'darkcyan', 'y','orangered','chartreuse','brown','deeppink','lightgreen', 'k'],\n",
    "        #'font.serif':cm,\n",
    "        'figure.figsize': fig_size}\n",
    "plt.rcParams.update(params)\n"
   ]
  },
  {
   "cell_type": "code",
   "execution_count": null,
   "metadata": {
    "collapsed": true
   },
   "outputs": [],
   "source": []
  },
  {
   "cell_type": "code",
   "execution_count": null,
   "metadata": {
    "collapsed": true
   },
   "outputs": [],
   "source": []
  }
 ],
 "metadata": {
  "kernelspec": {
   "display_name": "Python 3",
   "language": "python",
   "name": "python3"
  },
  "language_info": {
   "codemirror_mode": {
    "name": "ipython",
    "version": 3
   },
   "file_extension": ".py",
   "mimetype": "text/x-python",
   "name": "python",
   "nbconvert_exporter": "python",
   "pygments_lexer": "ipython3",
   "version": "3.6.5"
  }
 },
 "nbformat": 4,
 "nbformat_minor": 2
}
